{
  "nbformat": 4,
  "nbformat_minor": 0,
  "metadata": {
    "colab": {
      "provenance": [],
      "mount_file_id": "16SKyg1rrtdGUzWLAgMsxfq-5JaFUy1ee",
      "authorship_tag": "ABX9TyNe4y09sNtFq1oqG4ZlM3Un",
      "include_colab_link": true
    },
    "kernelspec": {
      "name": "python3",
      "display_name": "Python 3"
    },
    "language_info": {
      "name": "python"
    }
  },
  "cells": [
    {
      "cell_type": "markdown",
      "metadata": {
        "id": "view-in-github",
        "colab_type": "text"
      },
      "source": [
        "<a href=\"https://colab.research.google.com/github/ananyag3110/VAP_Deep-Learning/blob/main/ANN_ovarian.ipynb\" target=\"_parent\"><img src=\"https://colab.research.google.com/assets/colab-badge.svg\" alt=\"Open In Colab\"/></a>"
      ]
    },
    {
      "cell_type": "code",
      "execution_count": null,
      "metadata": {
        "id": "7w9FBssivNi7"
      },
      "outputs": [],
      "source": []
    },
    {
      "cell_type": "code",
      "source": [
        ".from google.colab import drive\n",
        "drive.mount('/content/drive')"
      ],
      "metadata": {
        "colab": {
          "base_uri": "https://localhost:8080/"
        },
        "id": "-Ej4xV4KvSet",
        "outputId": "364b4962-5f51-4c99-f3ff-e46f4aa3c335"
      },
      "execution_count": null,
      "outputs": [
        {
          "output_type": "stream",
          "name": "stdout",
          "text": [
            "Mounted at /content/drive\n"
          ]
        }
      ]
    },
    {
      "cell_type": "code",
      "source": [
        "import pandas as pd\n",
        "import numpy as np\n",
        "cancer =pd.read_csv(\"/content/drive/MyDrive/Colab Notebooks/ovariantotal\")\n",
        "cancer.head()"
      ],
      "metadata": {
        "colab": {
          "base_uri": "https://localhost:8080/",
          "height": 236
        },
        "id": "KAAPQsrFwP7z",
        "outputId": "ce02bc73-2cb6-4e49-a4a2-405d05c6d5fc"
      },
      "execution_count": null,
      "outputs": [
        {
          "output_type": "execute_result",
          "data": {
            "text/plain": [
              "     AFP     AG  Age   ALB  ALP  ALT  AST  BASO#  BASO%   BUN  ...   PCT  \\\n",
              "0   3.58  19.36   47  45.4   56   11   24   0.01   0.30  5.35  ...  0.09   \n",
              "1  34.24  23.98   61  39.9   95    9   13   0.02   0.30  3.21  ...  0.30   \n",
              "2   1.50  18.40   39  45.4   77    9   18   0.03   0.60  3.80  ...  0.13   \n",
              "3   2.75  16.60   45  39.2   26   16   17   0.05   0.74  5.27  ...  0.25   \n",
              "4   2.36  19.97   45  35.0   47   21   27   0.01   0.10  4.89  ...  0.28   \n",
              "\n",
              "    PDW  PHOS  PLT   RBC   RDW  TBIL    TP     UA  TYPE  \n",
              "0  13.4  1.46   74  2.64  13.7   5.5  73.9  396.4     0  \n",
              "1  11.2  1.09  304  4.89  12.7   6.8  72.0  119.2     0  \n",
              "2  15.2  0.97  112  4.62  12.0  14.8  77.9  209.2     0  \n",
              "3  17.4  1.25  339  4.01  14.6  10.9  66.1  215.6     0  \n",
              "4  11.9  0.94  272  4.40  13.4   5.3  66.5  206.0     0  \n",
              "\n",
              "[5 rows x 50 columns]"
            ],
            "text/html": [
              "\n",
              "  <div id=\"df-d653e249-a9d7-408d-84ce-3f6cdb5b435f\" class=\"colab-df-container\">\n",
              "    <div>\n",
              "<style scoped>\n",
              "    .dataframe tbody tr th:only-of-type {\n",
              "        vertical-align: middle;\n",
              "    }\n",
              "\n",
              "    .dataframe tbody tr th {\n",
              "        vertical-align: top;\n",
              "    }\n",
              "\n",
              "    .dataframe thead th {\n",
              "        text-align: right;\n",
              "    }\n",
              "</style>\n",
              "<table border=\"1\" class=\"dataframe\">\n",
              "  <thead>\n",
              "    <tr style=\"text-align: right;\">\n",
              "      <th></th>\n",
              "      <th>AFP</th>\n",
              "      <th>AG</th>\n",
              "      <th>Age</th>\n",
              "      <th>ALB</th>\n",
              "      <th>ALP</th>\n",
              "      <th>ALT</th>\n",
              "      <th>AST</th>\n",
              "      <th>BASO#</th>\n",
              "      <th>BASO%</th>\n",
              "      <th>BUN</th>\n",
              "      <th>...</th>\n",
              "      <th>PCT</th>\n",
              "      <th>PDW</th>\n",
              "      <th>PHOS</th>\n",
              "      <th>PLT</th>\n",
              "      <th>RBC</th>\n",
              "      <th>RDW</th>\n",
              "      <th>TBIL</th>\n",
              "      <th>TP</th>\n",
              "      <th>UA</th>\n",
              "      <th>TYPE</th>\n",
              "    </tr>\n",
              "  </thead>\n",
              "  <tbody>\n",
              "    <tr>\n",
              "      <th>0</th>\n",
              "      <td>3.58</td>\n",
              "      <td>19.36</td>\n",
              "      <td>47</td>\n",
              "      <td>45.4</td>\n",
              "      <td>56</td>\n",
              "      <td>11</td>\n",
              "      <td>24</td>\n",
              "      <td>0.01</td>\n",
              "      <td>0.30</td>\n",
              "      <td>5.35</td>\n",
              "      <td>...</td>\n",
              "      <td>0.09</td>\n",
              "      <td>13.4</td>\n",
              "      <td>1.46</td>\n",
              "      <td>74</td>\n",
              "      <td>2.64</td>\n",
              "      <td>13.7</td>\n",
              "      <td>5.5</td>\n",
              "      <td>73.9</td>\n",
              "      <td>396.4</td>\n",
              "      <td>0</td>\n",
              "    </tr>\n",
              "    <tr>\n",
              "      <th>1</th>\n",
              "      <td>34.24</td>\n",
              "      <td>23.98</td>\n",
              "      <td>61</td>\n",
              "      <td>39.9</td>\n",
              "      <td>95</td>\n",
              "      <td>9</td>\n",
              "      <td>13</td>\n",
              "      <td>0.02</td>\n",
              "      <td>0.30</td>\n",
              "      <td>3.21</td>\n",
              "      <td>...</td>\n",
              "      <td>0.30</td>\n",
              "      <td>11.2</td>\n",
              "      <td>1.09</td>\n",
              "      <td>304</td>\n",
              "      <td>4.89</td>\n",
              "      <td>12.7</td>\n",
              "      <td>6.8</td>\n",
              "      <td>72.0</td>\n",
              "      <td>119.2</td>\n",
              "      <td>0</td>\n",
              "    </tr>\n",
              "    <tr>\n",
              "      <th>2</th>\n",
              "      <td>1.50</td>\n",
              "      <td>18.40</td>\n",
              "      <td>39</td>\n",
              "      <td>45.4</td>\n",
              "      <td>77</td>\n",
              "      <td>9</td>\n",
              "      <td>18</td>\n",
              "      <td>0.03</td>\n",
              "      <td>0.60</td>\n",
              "      <td>3.80</td>\n",
              "      <td>...</td>\n",
              "      <td>0.13</td>\n",
              "      <td>15.2</td>\n",
              "      <td>0.97</td>\n",
              "      <td>112</td>\n",
              "      <td>4.62</td>\n",
              "      <td>12.0</td>\n",
              "      <td>14.8</td>\n",
              "      <td>77.9</td>\n",
              "      <td>209.2</td>\n",
              "      <td>0</td>\n",
              "    </tr>\n",
              "    <tr>\n",
              "      <th>3</th>\n",
              "      <td>2.75</td>\n",
              "      <td>16.60</td>\n",
              "      <td>45</td>\n",
              "      <td>39.2</td>\n",
              "      <td>26</td>\n",
              "      <td>16</td>\n",
              "      <td>17</td>\n",
              "      <td>0.05</td>\n",
              "      <td>0.74</td>\n",
              "      <td>5.27</td>\n",
              "      <td>...</td>\n",
              "      <td>0.25</td>\n",
              "      <td>17.4</td>\n",
              "      <td>1.25</td>\n",
              "      <td>339</td>\n",
              "      <td>4.01</td>\n",
              "      <td>14.6</td>\n",
              "      <td>10.9</td>\n",
              "      <td>66.1</td>\n",
              "      <td>215.6</td>\n",
              "      <td>0</td>\n",
              "    </tr>\n",
              "    <tr>\n",
              "      <th>4</th>\n",
              "      <td>2.36</td>\n",
              "      <td>19.97</td>\n",
              "      <td>45</td>\n",
              "      <td>35.0</td>\n",
              "      <td>47</td>\n",
              "      <td>21</td>\n",
              "      <td>27</td>\n",
              "      <td>0.01</td>\n",
              "      <td>0.10</td>\n",
              "      <td>4.89</td>\n",
              "      <td>...</td>\n",
              "      <td>0.28</td>\n",
              "      <td>11.9</td>\n",
              "      <td>0.94</td>\n",
              "      <td>272</td>\n",
              "      <td>4.40</td>\n",
              "      <td>13.4</td>\n",
              "      <td>5.3</td>\n",
              "      <td>66.5</td>\n",
              "      <td>206.0</td>\n",
              "      <td>0</td>\n",
              "    </tr>\n",
              "  </tbody>\n",
              "</table>\n",
              "<p>5 rows × 50 columns</p>\n",
              "</div>\n",
              "    <div class=\"colab-df-buttons\">\n",
              "\n",
              "  <div class=\"colab-df-container\">\n",
              "    <button class=\"colab-df-convert\" onclick=\"convertToInteractive('df-d653e249-a9d7-408d-84ce-3f6cdb5b435f')\"\n",
              "            title=\"Convert this dataframe to an interactive table.\"\n",
              "            style=\"display:none;\">\n",
              "\n",
              "  <svg xmlns=\"http://www.w3.org/2000/svg\" height=\"24px\" viewBox=\"0 -960 960 960\">\n",
              "    <path d=\"M120-120v-720h720v720H120Zm60-500h600v-160H180v160Zm220 220h160v-160H400v160Zm0 220h160v-160H400v160ZM180-400h160v-160H180v160Zm440 0h160v-160H620v160ZM180-180h160v-160H180v160Zm440 0h160v-160H620v160Z\"/>\n",
              "  </svg>\n",
              "    </button>\n",
              "\n",
              "  <style>\n",
              "    .colab-df-container {\n",
              "      display:flex;\n",
              "      gap: 12px;\n",
              "    }\n",
              "\n",
              "    .colab-df-convert {\n",
              "      background-color: #E8F0FE;\n",
              "      border: none;\n",
              "      border-radius: 50%;\n",
              "      cursor: pointer;\n",
              "      display: none;\n",
              "      fill: #1967D2;\n",
              "      height: 32px;\n",
              "      padding: 0 0 0 0;\n",
              "      width: 32px;\n",
              "    }\n",
              "\n",
              "    .colab-df-convert:hover {\n",
              "      background-color: #E2EBFA;\n",
              "      box-shadow: 0px 1px 2px rgba(60, 64, 67, 0.3), 0px 1px 3px 1px rgba(60, 64, 67, 0.15);\n",
              "      fill: #174EA6;\n",
              "    }\n",
              "\n",
              "    .colab-df-buttons div {\n",
              "      margin-bottom: 4px;\n",
              "    }\n",
              "\n",
              "    [theme=dark] .colab-df-convert {\n",
              "      background-color: #3B4455;\n",
              "      fill: #D2E3FC;\n",
              "    }\n",
              "\n",
              "    [theme=dark] .colab-df-convert:hover {\n",
              "      background-color: #434B5C;\n",
              "      box-shadow: 0px 1px 3px 1px rgba(0, 0, 0, 0.15);\n",
              "      filter: drop-shadow(0px 1px 2px rgba(0, 0, 0, 0.3));\n",
              "      fill: #FFFFFF;\n",
              "    }\n",
              "  </style>\n",
              "\n",
              "    <script>\n",
              "      const buttonEl =\n",
              "        document.querySelector('#df-d653e249-a9d7-408d-84ce-3f6cdb5b435f button.colab-df-convert');\n",
              "      buttonEl.style.display =\n",
              "        google.colab.kernel.accessAllowed ? 'block' : 'none';\n",
              "\n",
              "      async function convertToInteractive(key) {\n",
              "        const element = document.querySelector('#df-d653e249-a9d7-408d-84ce-3f6cdb5b435f');\n",
              "        const dataTable =\n",
              "          await google.colab.kernel.invokeFunction('convertToInteractive',\n",
              "                                                    [key], {});\n",
              "        if (!dataTable) return;\n",
              "\n",
              "        const docLinkHtml = 'Like what you see? Visit the ' +\n",
              "          '<a target=\"_blank\" href=https://colab.research.google.com/notebooks/data_table.ipynb>data table notebook</a>'\n",
              "          + ' to learn more about interactive tables.';\n",
              "        element.innerHTML = '';\n",
              "        dataTable['output_type'] = 'display_data';\n",
              "        await google.colab.output.renderOutput(dataTable, element);\n",
              "        const docLink = document.createElement('div');\n",
              "        docLink.innerHTML = docLinkHtml;\n",
              "        element.appendChild(docLink);\n",
              "      }\n",
              "    </script>\n",
              "  </div>\n",
              "\n",
              "\n",
              "<div id=\"df-1f93d0bb-4a09-44e1-af93-5d6ac420b1a8\">\n",
              "  <button class=\"colab-df-quickchart\" onclick=\"quickchart('df-1f93d0bb-4a09-44e1-af93-5d6ac420b1a8')\"\n",
              "            title=\"Suggest charts\"\n",
              "            style=\"display:none;\">\n",
              "\n",
              "<svg xmlns=\"http://www.w3.org/2000/svg\" height=\"24px\"viewBox=\"0 0 24 24\"\n",
              "     width=\"24px\">\n",
              "    <g>\n",
              "        <path d=\"M19 3H5c-1.1 0-2 .9-2 2v14c0 1.1.9 2 2 2h14c1.1 0 2-.9 2-2V5c0-1.1-.9-2-2-2zM9 17H7v-7h2v7zm4 0h-2V7h2v10zm4 0h-2v-4h2v4z\"/>\n",
              "    </g>\n",
              "</svg>\n",
              "  </button>\n",
              "\n",
              "<style>\n",
              "  .colab-df-quickchart {\n",
              "      --bg-color: #E8F0FE;\n",
              "      --fill-color: #1967D2;\n",
              "      --hover-bg-color: #E2EBFA;\n",
              "      --hover-fill-color: #174EA6;\n",
              "      --disabled-fill-color: #AAA;\n",
              "      --disabled-bg-color: #DDD;\n",
              "  }\n",
              "\n",
              "  [theme=dark] .colab-df-quickchart {\n",
              "      --bg-color: #3B4455;\n",
              "      --fill-color: #D2E3FC;\n",
              "      --hover-bg-color: #434B5C;\n",
              "      --hover-fill-color: #FFFFFF;\n",
              "      --disabled-bg-color: #3B4455;\n",
              "      --disabled-fill-color: #666;\n",
              "  }\n",
              "\n",
              "  .colab-df-quickchart {\n",
              "    background-color: var(--bg-color);\n",
              "    border: none;\n",
              "    border-radius: 50%;\n",
              "    cursor: pointer;\n",
              "    display: none;\n",
              "    fill: var(--fill-color);\n",
              "    height: 32px;\n",
              "    padding: 0;\n",
              "    width: 32px;\n",
              "  }\n",
              "\n",
              "  .colab-df-quickchart:hover {\n",
              "    background-color: var(--hover-bg-color);\n",
              "    box-shadow: 0 1px 2px rgba(60, 64, 67, 0.3), 0 1px 3px 1px rgba(60, 64, 67, 0.15);\n",
              "    fill: var(--button-hover-fill-color);\n",
              "  }\n",
              "\n",
              "  .colab-df-quickchart-complete:disabled,\n",
              "  .colab-df-quickchart-complete:disabled:hover {\n",
              "    background-color: var(--disabled-bg-color);\n",
              "    fill: var(--disabled-fill-color);\n",
              "    box-shadow: none;\n",
              "  }\n",
              "\n",
              "  .colab-df-spinner {\n",
              "    border: 2px solid var(--fill-color);\n",
              "    border-color: transparent;\n",
              "    border-bottom-color: var(--fill-color);\n",
              "    animation:\n",
              "      spin 1s steps(1) infinite;\n",
              "  }\n",
              "\n",
              "  @keyframes spin {\n",
              "    0% {\n",
              "      border-color: transparent;\n",
              "      border-bottom-color: var(--fill-color);\n",
              "      border-left-color: var(--fill-color);\n",
              "    }\n",
              "    20% {\n",
              "      border-color: transparent;\n",
              "      border-left-color: var(--fill-color);\n",
              "      border-top-color: var(--fill-color);\n",
              "    }\n",
              "    30% {\n",
              "      border-color: transparent;\n",
              "      border-left-color: var(--fill-color);\n",
              "      border-top-color: var(--fill-color);\n",
              "      border-right-color: var(--fill-color);\n",
              "    }\n",
              "    40% {\n",
              "      border-color: transparent;\n",
              "      border-right-color: var(--fill-color);\n",
              "      border-top-color: var(--fill-color);\n",
              "    }\n",
              "    60% {\n",
              "      border-color: transparent;\n",
              "      border-right-color: var(--fill-color);\n",
              "    }\n",
              "    80% {\n",
              "      border-color: transparent;\n",
              "      border-right-color: var(--fill-color);\n",
              "      border-bottom-color: var(--fill-color);\n",
              "    }\n",
              "    90% {\n",
              "      border-color: transparent;\n",
              "      border-bottom-color: var(--fill-color);\n",
              "    }\n",
              "  }\n",
              "</style>\n",
              "\n",
              "  <script>\n",
              "    async function quickchart(key) {\n",
              "      const quickchartButtonEl =\n",
              "        document.querySelector('#' + key + ' button');\n",
              "      quickchartButtonEl.disabled = true;  // To prevent multiple clicks.\n",
              "      quickchartButtonEl.classList.add('colab-df-spinner');\n",
              "      try {\n",
              "        const charts = await google.colab.kernel.invokeFunction(\n",
              "            'suggestCharts', [key], {});\n",
              "      } catch (error) {\n",
              "        console.error('Error during call to suggestCharts:', error);\n",
              "      }\n",
              "      quickchartButtonEl.classList.remove('colab-df-spinner');\n",
              "      quickchartButtonEl.classList.add('colab-df-quickchart-complete');\n",
              "    }\n",
              "    (() => {\n",
              "      let quickchartButtonEl =\n",
              "        document.querySelector('#df-1f93d0bb-4a09-44e1-af93-5d6ac420b1a8 button');\n",
              "      quickchartButtonEl.style.display =\n",
              "        google.colab.kernel.accessAllowed ? 'block' : 'none';\n",
              "    })();\n",
              "  </script>\n",
              "</div>\n",
              "\n",
              "    </div>\n",
              "  </div>\n"
            ],
            "application/vnd.google.colaboratory.intrinsic+json": {
              "type": "dataframe",
              "variable_name": "cancer"
            }
          },
          "metadata": {},
          "execution_count": 70
        }
      ]
    },
    {
      "cell_type": "code",
      "source": [
        "# promp\n",
        "x=cancer.drop('TYPE',axis=1)\n",
        "y=cancer['TYPE']"
      ],
      "metadata": {
        "id": "8ISIlx9j2HL8"
      },
      "execution_count": null,
      "outputs": []
    },
    {
      "cell_type": "code",
      "source": [
        "# we might give more value to large number(eg.UA) so we get the values to certain range\n",
        "from sklearn import preprocessing\n",
        "min_max_scaler = preprocessing.MinMaxScaler()\n",
        "x_scale= min_max_scaler.fit_transform(x)\n",
        "print(x_scale)"
      ],
      "metadata": {
        "colab": {
          "base_uri": "https://localhost:8080/"
        },
        "id": "hEgbY5Yq1Vs-",
        "outputId": "b9bfcf67-ce77-4a3b-9321-4cdb88d1e75c"
      },
      "execution_count": null,
      "outputs": [
        {
          "output_type": "stream",
          "name": "stdout",
          "text": [
            "[[2.45578349e-03 4.85071876e-01 4.70588235e-01 ... 8.37988827e-02\n",
            "  7.60667904e-01 5.60447761e-01]\n",
            " [2.78074070e-02 6.55363067e-01 6.76470588e-01 ... 1.20111732e-01\n",
            "  7.25417440e-01 4.32835821e-02]\n",
            " [7.35908185e-04 4.49686694e-01 3.52941176e-01 ... 3.43575419e-01\n",
            "  8.34879406e-01 2.11194030e-01]\n",
            " ...\n",
            " [1.83563615e-03 4.80280133e-01 6.47058824e-01 ... 3.15642458e-01\n",
            "  6.58627087e-01 2.11753731e-01]\n",
            " [1.01704165e-03 7.74788058e-01 2.20588235e-01 ... 2.45810056e-01\n",
            "  7.99628942e-01 3.53917910e-01]\n",
            " [8.26863129e-04 2.50645042e-01 3.52941176e-01 ... 1.62011173e-01\n",
            "  6.62337662e-01 1.65858209e-01]]\n"
          ]
        }
      ]
    },
    {
      "cell_type": "code",
      "source": [
        "from sklearn.model_selection import train_test_split\n",
        "x_train,x_test,y_train,y_test=train_test_split(x_scale,y,test_size=0.2,random_state=0)"
      ],
      "metadata": {
        "id": "ERz1ETTN1fD-"
      },
      "execution_count": null,
      "outputs": []
    },
    {
      "cell_type": "code",
      "source": [
        "from tensorflow import keras\n",
        "from  keras.models import Sequential\n",
        "from keras.layers import LeakyReLU\n",
        "from keras.layers import Dense\n",
        "#dense all nodes are connected to other nodes"
      ],
      "metadata": {
        "id": "WEUhbfkW3wLt"
      },
      "execution_count": null,
      "outputs": []
    },
    {
      "cell_type": "code",
      "source": [
        "cancer.shape\n"
      ],
      "metadata": {
        "colab": {
          "base_uri": "https://localhost:8080/"
        },
        "id": "_PNCNyi46dpM",
        "outputId": "0cfe4c1c-f894-4fed-db22-3b5911fbe44d"
      },
      "execution_count": null,
      "outputs": [
        {
          "output_type": "execute_result",
          "data": {
            "text/plain": [
              "(349, 50)"
            ]
          },
          "metadata": {},
          "execution_count": 12
        }
      ]
    },
    {
      "cell_type": "code",
      "source": [
        "model=Sequential()\n",
        "model.add(Dense(32, activation=\"relu\",input_shape=(49,)))\n",
        "model.add(Dense(32, activation=\"relu\"))\n",
        "\n",
        "#output layer\n",
        "model.add(Dense(1, activation='sigmoid'))\n",
        "\n",
        "model.compile(optimizer='sgd',\n",
        "              loss='binary_crossentropy',\n",
        "              metrics=[\"accuracy\"])\n",
        "model.fit(x_train,y_train,epochs=10)"
      ],
      "metadata": {
        "colab": {
          "base_uri": "https://localhost:8080/"
        },
        "id": "z7CwTDyn69S8",
        "outputId": "f30f1510-c4e3-49f9-c7ec-90464356798e"
      },
      "execution_count": null,
      "outputs": [
        {
          "output_type": "stream",
          "name": "stdout",
          "text": [
            "Epoch 1/10\n",
            "9/9 [==============================] - 1s 3ms/step - loss: 0.7100 - accuracy: 0.4695\n",
            "Epoch 2/10\n",
            "9/9 [==============================] - 0s 2ms/step - loss: 0.6965 - accuracy: 0.4624\n",
            "Epoch 3/10\n",
            "9/9 [==============================] - 0s 2ms/step - loss: 0.6856 - accuracy: 0.4803\n",
            "Epoch 4/10\n",
            "9/9 [==============================] - 0s 2ms/step - loss: 0.6763 - accuracy: 0.5376\n",
            "Epoch 5/10\n",
            "9/9 [==============================] - 0s 2ms/step - loss: 0.6689 - accuracy: 0.6416\n",
            "Epoch 6/10\n",
            "9/9 [==============================] - 0s 2ms/step - loss: 0.6632 - accuracy: 0.6918\n",
            "Epoch 7/10\n",
            "9/9 [==============================] - 0s 2ms/step - loss: 0.6590 - accuracy: 0.6989\n",
            "Epoch 8/10\n",
            "9/9 [==============================] - 0s 2ms/step - loss: 0.6554 - accuracy: 0.6953\n",
            "Epoch 9/10\n",
            "9/9 [==============================] - 0s 2ms/step - loss: 0.6525 - accuracy: 0.6846\n",
            "Epoch 10/10\n",
            "9/9 [==============================] - 0s 2ms/step - loss: 0.6494 - accuracy: 0.7025\n"
          ]
        },
        {
          "output_type": "execute_result",
          "data": {
            "text/plain": [
              "<keras.src.callbacks.History at 0x7bd7764a9ff0>"
            ]
          },
          "metadata": {},
          "execution_count": 19
        }
      ]
    },
    {
      "cell_type": "code",
      "source": [
        "model=Sequential()\n",
        "model.add(Dense(32, activation=\"relu\",input_shape=(49,)))\n",
        "model.add(Dense(32, activation=\"relu\"))\n",
        "\n",
        "#output layer\n",
        "model.add(Dense(1, activation='sigmoid'))\n",
        "\n",
        "model.compile(optimizer='sgd',\n",
        "              loss='binary_crossentropy',\n",
        "              metrics=[\"accuracy\"])\n",
        "model.fit(x_train,y_train,epochs=10,batch_size=1)"
      ],
      "metadata": {
        "colab": {
          "base_uri": "https://localhost:8080/"
        },
        "id": "f_W5TLLa7gRm",
        "outputId": "401cb723-dbe6-4ea1-b95d-5d654ffed4c5"
      },
      "execution_count": null,
      "outputs": [
        {
          "output_type": "stream",
          "name": "stdout",
          "text": [
            "Epoch 1/10\n",
            "279/279 [==============================] - 1s 2ms/step - loss: 0.6601 - accuracy: 0.6559\n",
            "Epoch 2/10\n",
            "279/279 [==============================] - 0s 2ms/step - loss: 0.5952 - accuracy: 0.7276\n",
            "Epoch 3/10\n",
            "279/279 [==============================] - 0s 2ms/step - loss: 0.5457 - accuracy: 0.7384\n",
            "Epoch 4/10\n",
            "279/279 [==============================] - 0s 2ms/step - loss: 0.4939 - accuracy: 0.7527\n",
            "Epoch 5/10\n",
            "279/279 [==============================] - 0s 2ms/step - loss: 0.4865 - accuracy: 0.7742\n",
            "Epoch 6/10\n",
            "279/279 [==============================] - 0s 2ms/step - loss: 0.4785 - accuracy: 0.8136\n",
            "Epoch 7/10\n",
            "279/279 [==============================] - 0s 2ms/step - loss: 0.4576 - accuracy: 0.7814\n",
            "Epoch 8/10\n",
            "279/279 [==============================] - 0s 2ms/step - loss: 0.4547 - accuracy: 0.8065\n",
            "Epoch 9/10\n",
            "279/279 [==============================] - 1s 2ms/step - loss: 0.4450 - accuracy: 0.7742\n",
            "Epoch 10/10\n",
            "279/279 [==============================] - 1s 2ms/step - loss: 0.4376 - accuracy: 0.7993\n"
          ]
        },
        {
          "output_type": "execute_result",
          "data": {
            "text/plain": [
              "<keras.src.callbacks.History at 0x7bd77659f8e0>"
            ]
          },
          "metadata": {},
          "execution_count": 18
        }
      ]
    },
    {
      "cell_type": "code",
      "source": [
        "model=Sequential()\n",
        "model.add(Dense(32, activation=\"relu\",input_shape=(49,)))\n",
        "model.add(Dense(32, activation=\"relu\"))\n",
        "\n",
        "#output layer\n",
        "model.add(Dense(1, activation='sigmoid'))\n",
        "\n",
        "model.compile(optimizer='sgd',\n",
        "              loss='binary_crossentropy',\n",
        "              metrics=[\"accuracy\"])\n",
        "model.fit(x_train,y_train,epochs=10,batch_size=28)"
      ],
      "metadata": {
        "colab": {
          "base_uri": "https://localhost:8080/"
        },
        "id": "GyrMLyMa9p6X",
        "outputId": "2e3fe8cd-346d-4e49-e96f-eebbf5b388c3"
      },
      "execution_count": null,
      "outputs": [
        {
          "output_type": "stream",
          "name": "stdout",
          "text": [
            "Epoch 1/10\n",
            "10/10 [==============================] - 1s 4ms/step - loss: 0.7228 - accuracy: 0.4659\n",
            "Epoch 2/10\n",
            "10/10 [==============================] - 0s 4ms/step - loss: 0.7070 - accuracy: 0.4659\n",
            "Epoch 3/10\n",
            "10/10 [==============================] - 0s 4ms/step - loss: 0.6975 - accuracy: 0.4659\n",
            "Epoch 4/10\n",
            "10/10 [==============================] - 0s 5ms/step - loss: 0.6912 - accuracy: 0.4695\n",
            "Epoch 5/10\n",
            "10/10 [==============================] - 0s 4ms/step - loss: 0.6861 - accuracy: 0.5125\n",
            "Epoch 6/10\n",
            "10/10 [==============================] - 0s 7ms/step - loss: 0.6826 - accuracy: 0.5520\n",
            "Epoch 7/10\n",
            "10/10 [==============================] - 0s 6ms/step - loss: 0.6790 - accuracy: 0.6559\n",
            "Epoch 8/10\n",
            "10/10 [==============================] - 0s 5ms/step - loss: 0.6761 - accuracy: 0.6810\n",
            "Epoch 9/10\n",
            "10/10 [==============================] - 0s 4ms/step - loss: 0.6735 - accuracy: 0.6918\n",
            "Epoch 10/10\n",
            "10/10 [==============================] - 0s 3ms/step - loss: 0.6710 - accuracy: 0.7240\n"
          ]
        },
        {
          "output_type": "execute_result",
          "data": {
            "text/plain": [
              "<keras.src.callbacks.History at 0x7bd7763acf10>"
            ]
          },
          "metadata": {},
          "execution_count": 20
        }
      ]
    },
    {
      "cell_type": "code",
      "source": [
        "model=Sequential()\n",
        "model.add(Dense(32, activation=\"relu\",input_shape=(49,)))\n",
        "model.add(Dense(32, activation=\"relu\"))\n",
        "\n",
        "#output layer\n",
        "model.add(Dense(1, activation='sigmoid'))\n",
        "\n",
        "model.compile(optimizer='adam',\n",
        "              loss='binary_crossentropy',\n",
        "              metrics=[\"accuracy\"])\n",
        "model.fit(x_train,y_train,epochs=2)"
      ],
      "metadata": {
        "colab": {
          "base_uri": "https://localhost:8080/"
        },
        "id": "jaDE_XxX98eA",
        "outputId": "bdce98bc-fe8d-4ad4-eef8-78e5a48f0505"
      },
      "execution_count": null,
      "outputs": [
        {
          "output_type": "stream",
          "name": "stdout",
          "text": [
            "Epoch 1/2\n",
            "9/9 [==============================] - 1s 2ms/step - loss: 0.6654 - accuracy: 0.6953\n",
            "Epoch 2/2\n",
            "9/9 [==============================] - 0s 3ms/step - loss: 0.6433 - accuracy: 0.7097\n"
          ]
        },
        {
          "output_type": "execute_result",
          "data": {
            "text/plain": [
              "<keras.src.callbacks.History at 0x7bd77628bfd0>"
            ]
          },
          "metadata": {},
          "execution_count": 21
        }
      ]
    },
    {
      "cell_type": "code",
      "source": [
        "model=Sequential()\n",
        "model.add(Dense(32, activation=\"relu\",input_shape=(49,)))\n",
        "model.add(Dense(32, activation=\"relu\"))\n",
        "\n",
        "#output layer\n",
        "model.add(Dense(1, activation='sigmoid'))\n",
        "\n",
        "model.compile(optimizer='adadelta',\n",
        "              loss='binary_crossentropy',\n",
        "              metrics=[\"accuracy\"])\n",
        "model.fit(x_train,y_train,epochs=10)"
      ],
      "metadata": {
        "colab": {
          "base_uri": "https://localhost:8080/"
        },
        "id": "Srn-kw3b--zE",
        "outputId": "39f2f8ba-6100-4838-d7ba-984b0151a758"
      },
      "execution_count": null,
      "outputs": [
        {
          "output_type": "stream",
          "name": "stdout",
          "text": [
            "Epoch 1/10\n",
            "9/9 [==============================] - 1s 3ms/step - loss: 0.7240 - accuracy: 0.4659\n",
            "Epoch 2/10\n",
            "9/9 [==============================] - 0s 3ms/step - loss: 0.7239 - accuracy: 0.4659\n",
            "Epoch 3/10\n",
            "9/9 [==============================] - 0s 3ms/step - loss: 0.7238 - accuracy: 0.4659\n",
            "Epoch 4/10\n",
            "9/9 [==============================] - 0s 3ms/step - loss: 0.7238 - accuracy: 0.4659\n",
            "Epoch 5/10\n",
            "9/9 [==============================] - 0s 2ms/step - loss: 0.7237 - accuracy: 0.4659\n",
            "Epoch 6/10\n",
            "9/9 [==============================] - 0s 3ms/step - loss: 0.7236 - accuracy: 0.4659\n",
            "Epoch 7/10\n",
            "9/9 [==============================] - 0s 2ms/step - loss: 0.7235 - accuracy: 0.4659\n",
            "Epoch 8/10\n",
            "9/9 [==============================] - 0s 3ms/step - loss: 0.7235 - accuracy: 0.4659\n",
            "Epoch 9/10\n",
            "9/9 [==============================] - 0s 2ms/step - loss: 0.7234 - accuracy: 0.4659\n",
            "Epoch 10/10\n",
            "9/9 [==============================] - 0s 2ms/step - loss: 0.7233 - accuracy: 0.4659\n"
          ]
        },
        {
          "output_type": "execute_result",
          "data": {
            "text/plain": [
              "<keras.src.callbacks.History at 0x7bd776686ce0>"
            ]
          },
          "metadata": {},
          "execution_count": 23
        }
      ]
    },
    {
      "cell_type": "code",
      "source": [
        "model=Sequential()\n",
        "model.add(Dense(32, activation=\"relu\",input_shape=(49,)))\n",
        "model.add(Dense(32, activation=\"relu\"))\n",
        "\n",
        "#output layer\n",
        "model.add(Dense(1, activation='sigmoid'))\n",
        "\n",
        "model.compile(optimizer='adagrad',\n",
        "              loss='binary_crossentropy',\n",
        "              metrics=[\"accuracy\"])\n",
        "model.fit(x_train,y_train,epochs=10)"
      ],
      "metadata": {
        "colab": {
          "base_uri": "https://localhost:8080/"
        },
        "id": "nku8EIWy_HuD",
        "outputId": "102920c9-04cb-4202-a974-0571422652e4"
      },
      "execution_count": null,
      "outputs": [
        {
          "output_type": "stream",
          "name": "stdout",
          "text": [
            "Epoch 1/10\n",
            "9/9 [==============================] - 1s 2ms/step - loss: 0.7137 - accuracy: 0.5341\n",
            "Epoch 2/10\n",
            "9/9 [==============================] - 0s 2ms/step - loss: 0.7113 - accuracy: 0.5341\n",
            "Epoch 3/10\n",
            "9/9 [==============================] - 0s 2ms/step - loss: 0.7091 - accuracy: 0.5341\n",
            "Epoch 4/10\n",
            "9/9 [==============================] - 0s 3ms/step - loss: 0.7071 - accuracy: 0.5341\n",
            "Epoch 5/10\n",
            "9/9 [==============================] - 0s 2ms/step - loss: 0.7054 - accuracy: 0.5341\n",
            "Epoch 6/10\n",
            "9/9 [==============================] - 0s 2ms/step - loss: 0.7036 - accuracy: 0.5341\n",
            "Epoch 7/10\n",
            "9/9 [==============================] - 0s 2ms/step - loss: 0.7021 - accuracy: 0.5341\n",
            "Epoch 8/10\n",
            "9/9 [==============================] - 0s 2ms/step - loss: 0.7007 - accuracy: 0.5341\n",
            "Epoch 9/10\n",
            "9/9 [==============================] - 0s 2ms/step - loss: 0.6993 - accuracy: 0.5341\n",
            "Epoch 10/10\n",
            "9/9 [==============================] - 0s 2ms/step - loss: 0.6980 - accuracy: 0.5341\n"
          ]
        },
        {
          "output_type": "execute_result",
          "data": {
            "text/plain": [
              "<keras.src.callbacks.History at 0x7bd774520a60>"
            ]
          },
          "metadata": {},
          "execution_count": 24
        }
      ]
    },
    {
      "cell_type": "code",
      "source": [
        "model=Sequential()\n",
        "model.add(Dense(32, activation=\"relu\",input_shape=(49,)))\n",
        "model.add(Dense(32, activation=\"relu\"))\n",
        "\n",
        "#output layer\n",
        "model.add(Dense(1, activation='sigmoid'))\n",
        "\n",
        "model.compile(optimizer='rmsprop',\n",
        "              loss='binary_crossentropy',\n",
        "              metrics=[\"accuracy\"])\n",
        "model.fit(x_train,y_train,epochs=10)"
      ],
      "metadata": {
        "colab": {
          "base_uri": "https://localhost:8080/"
        },
        "id": "JOpdLGaz_UFS",
        "outputId": "021f1995-d4b1-4ca5-d515-749b1d762896"
      },
      "execution_count": null,
      "outputs": [
        {
          "output_type": "stream",
          "name": "stdout",
          "text": [
            "Epoch 1/10\n",
            "9/9 [==============================] - 1s 2ms/step - loss: 0.6830 - accuracy: 0.5627\n",
            "Epoch 2/10\n",
            "9/9 [==============================] - 0s 3ms/step - loss: 0.6616 - accuracy: 0.6380\n",
            "Epoch 3/10\n",
            "9/9 [==============================] - 0s 2ms/step - loss: 0.6434 - accuracy: 0.7025\n",
            "Epoch 4/10\n",
            "9/9 [==============================] - 0s 2ms/step - loss: 0.6245 - accuracy: 0.7312\n",
            "Epoch 5/10\n",
            "9/9 [==============================] - 0s 2ms/step - loss: 0.6071 - accuracy: 0.7563\n",
            "Epoch 6/10\n",
            "9/9 [==============================] - 0s 2ms/step - loss: 0.5869 - accuracy: 0.7384\n",
            "Epoch 7/10\n",
            "9/9 [==============================] - 0s 2ms/step - loss: 0.5663 - accuracy: 0.7706\n",
            "Epoch 8/10\n",
            "9/9 [==============================] - 0s 2ms/step - loss: 0.5487 - accuracy: 0.7599\n",
            "Epoch 9/10\n",
            "9/9 [==============================] - 0s 2ms/step - loss: 0.5336 - accuracy: 0.7634\n",
            "Epoch 10/10\n",
            "9/9 [==============================] - 0s 2ms/step - loss: 0.5212 - accuracy: 0.7742\n"
          ]
        },
        {
          "output_type": "execute_result",
          "data": {
            "text/plain": [
              "<keras.src.callbacks.History at 0x7bd77433f1c0>"
            ]
          },
          "metadata": {},
          "execution_count": 26
        }
      ]
    },
    {
      "cell_type": "code",
      "source": [
        "model=Sequential()\n",
        "model.add(Dense(32, activation=\"selu\",input_shape=(49,)))\n",
        "model.add(Dense(32, activation=\"selu\"))\n",
        "model.add(Dense(42, activation=\"selu\"))\n",
        "model.add(Dense(42, activation=\"selu\"))\n",
        "model.add(Dense(42, activation=\"selu\"))\n",
        "#output layer\n",
        "model.add(Dense(1, activation='sigmoid'))\n",
        "\n",
        "model.compile(optimizer='sgd',\n",
        "              loss='binary_crossentropy',\n",
        "              metrics=[\"accuracy\"])\n",
        "model.fit(x_train,y_train,epochs=10, batch_size=1)"
      ],
      "metadata": {
        "colab": {
          "base_uri": "https://localhost:8080/"
        },
        "id": "rZXOWrGK_YZB",
        "outputId": "ba58cb47-e7ed-48d0-c3e7-d58c513519c3"
      },
      "execution_count": null,
      "outputs": [
        {
          "output_type": "stream",
          "name": "stdout",
          "text": [
            "Epoch 1/10\n",
            "279/279 [==============================] - 1s 2ms/step - loss: 0.6053 - accuracy: 0.6810\n",
            "Epoch 2/10\n",
            "279/279 [==============================] - 0s 2ms/step - loss: 0.5429 - accuracy: 0.7312\n",
            "Epoch 3/10\n",
            "279/279 [==============================] - 0s 2ms/step - loss: 0.5068 - accuracy: 0.7706\n",
            "Epoch 4/10\n",
            "279/279 [==============================] - 0s 2ms/step - loss: 0.4760 - accuracy: 0.7921\n",
            "Epoch 5/10\n",
            "279/279 [==============================] - 0s 2ms/step - loss: 0.4567 - accuracy: 0.7993\n",
            "Epoch 6/10\n",
            "279/279 [==============================] - 0s 2ms/step - loss: 0.4632 - accuracy: 0.7885\n",
            "Epoch 7/10\n",
            "279/279 [==============================] - 0s 2ms/step - loss: 0.4474 - accuracy: 0.7957\n",
            "Epoch 8/10\n",
            "279/279 [==============================] - 0s 2ms/step - loss: 0.4205 - accuracy: 0.8136\n",
            "Epoch 9/10\n",
            "279/279 [==============================] - 0s 2ms/step - loss: 0.4295 - accuracy: 0.8136\n",
            "Epoch 10/10\n",
            "279/279 [==============================] - 0s 2ms/step - loss: 0.4217 - accuracy: 0.8029\n"
          ]
        },
        {
          "output_type": "execute_result",
          "data": {
            "text/plain": [
              "<keras.src.callbacks.History at 0x7bd76157d870>"
            ]
          },
          "metadata": {},
          "execution_count": 38
        }
      ]
    },
    {
      "cell_type": "code",
      "source": [
        "model=Sequential()\n",
        "model.add(Dense(32, activation=LeakyReLU(alpha=0.01),input_shape=(49,)))\n",
        "model.add(Dense(32, activation=LeakyReLU(alpha=0.01)))\n",
        "#output layer\n",
        "model.add(Dense(1, activation='sigmoid'))\n",
        "\n",
        "model.compile(optimizer='adam',\n",
        "              loss='binary_crossentropy',\n",
        "              metrics=[\"accuracy\"])\n",
        "model.fit(x_train,y_train,epochs=85, batch_size=1)"
      ],
      "metadata": {
        "colab": {
          "base_uri": "https://localhost:8080/"
        },
        "id": "Izxs7Lu6AEuW",
        "outputId": "47a05076-df5f-447b-9a82-448305cbc3f8"
      },
      "execution_count": null,
      "outputs": [
        {
          "output_type": "stream",
          "name": "stdout",
          "text": [
            "Epoch 1/85\n",
            "279/279 [==============================] - 1s 2ms/step - loss: 0.6446 - accuracy: 0.6523\n",
            "Epoch 2/85\n",
            "279/279 [==============================] - 0s 2ms/step - loss: 0.5336 - accuracy: 0.7527\n",
            "Epoch 3/85\n",
            "279/279 [==============================] - 1s 2ms/step - loss: 0.4693 - accuracy: 0.7814\n",
            "Epoch 4/85\n",
            "279/279 [==============================] - 1s 3ms/step - loss: 0.4569 - accuracy: 0.7921\n",
            "Epoch 5/85\n",
            "279/279 [==============================] - 1s 3ms/step - loss: 0.4336 - accuracy: 0.8100\n",
            "Epoch 6/85\n",
            "279/279 [==============================] - 1s 3ms/step - loss: 0.3921 - accuracy: 0.8315\n",
            "Epoch 7/85\n",
            "279/279 [==============================] - 1s 3ms/step - loss: 0.3927 - accuracy: 0.8351\n",
            "Epoch 8/85\n",
            "279/279 [==============================] - 1s 3ms/step - loss: 0.3785 - accuracy: 0.8423\n",
            "Epoch 9/85\n",
            "279/279 [==============================] - 1s 3ms/step - loss: 0.3722 - accuracy: 0.8387\n",
            "Epoch 10/85\n",
            "279/279 [==============================] - 1s 2ms/step - loss: 0.3634 - accuracy: 0.8602\n",
            "Epoch 11/85\n",
            "279/279 [==============================] - 1s 2ms/step - loss: 0.3518 - accuracy: 0.8530\n",
            "Epoch 12/85\n",
            "279/279 [==============================] - 1s 2ms/step - loss: 0.3353 - accuracy: 0.8602\n",
            "Epoch 13/85\n",
            "279/279 [==============================] - 0s 2ms/step - loss: 0.3302 - accuracy: 0.8781\n",
            "Epoch 14/85\n",
            "279/279 [==============================] - 1s 2ms/step - loss: 0.3168 - accuracy: 0.8817\n",
            "Epoch 15/85\n",
            "279/279 [==============================] - 0s 2ms/step - loss: 0.3209 - accuracy: 0.8495\n",
            "Epoch 16/85\n",
            "279/279 [==============================] - 0s 2ms/step - loss: 0.2988 - accuracy: 0.8817\n",
            "Epoch 17/85\n",
            "279/279 [==============================] - 1s 2ms/step - loss: 0.3014 - accuracy: 0.8710\n",
            "Epoch 18/85\n",
            "279/279 [==============================] - 1s 2ms/step - loss: 0.2841 - accuracy: 0.8674\n",
            "Epoch 19/85\n",
            "279/279 [==============================] - 1s 2ms/step - loss: 0.2809 - accuracy: 0.8853\n",
            "Epoch 20/85\n",
            "279/279 [==============================] - 1s 2ms/step - loss: 0.2907 - accuracy: 0.8925\n",
            "Epoch 21/85\n",
            "279/279 [==============================] - 1s 2ms/step - loss: 0.2779 - accuracy: 0.8925\n",
            "Epoch 22/85\n",
            "279/279 [==============================] - 0s 2ms/step - loss: 0.2726 - accuracy: 0.9068\n",
            "Epoch 23/85\n",
            "279/279 [==============================] - 1s 2ms/step - loss: 0.2595 - accuracy: 0.9032\n",
            "Epoch 24/85\n",
            "279/279 [==============================] - 1s 2ms/step - loss: 0.2523 - accuracy: 0.9104\n",
            "Epoch 25/85\n",
            "279/279 [==============================] - 1s 2ms/step - loss: 0.2547 - accuracy: 0.9032\n",
            "Epoch 26/85\n",
            "279/279 [==============================] - 0s 2ms/step - loss: 0.2465 - accuracy: 0.8961\n",
            "Epoch 27/85\n",
            "279/279 [==============================] - 0s 2ms/step - loss: 0.2531 - accuracy: 0.9104\n",
            "Epoch 28/85\n",
            "279/279 [==============================] - 0s 2ms/step - loss: 0.2450 - accuracy: 0.8961\n",
            "Epoch 29/85\n",
            "279/279 [==============================] - 1s 2ms/step - loss: 0.2354 - accuracy: 0.8925\n",
            "Epoch 30/85\n",
            "279/279 [==============================] - 1s 3ms/step - loss: 0.2356 - accuracy: 0.8996\n",
            "Epoch 31/85\n",
            "279/279 [==============================] - 1s 2ms/step - loss: 0.2297 - accuracy: 0.9140\n",
            "Epoch 32/85\n",
            "279/279 [==============================] - 1s 3ms/step - loss: 0.2290 - accuracy: 0.9140\n",
            "Epoch 33/85\n",
            "279/279 [==============================] - 1s 3ms/step - loss: 0.2119 - accuracy: 0.9247\n",
            "Epoch 34/85\n",
            "279/279 [==============================] - 1s 3ms/step - loss: 0.2165 - accuracy: 0.9211\n",
            "Epoch 35/85\n",
            "279/279 [==============================] - 1s 3ms/step - loss: 0.2082 - accuracy: 0.9140\n",
            "Epoch 36/85\n",
            "279/279 [==============================] - 1s 3ms/step - loss: 0.2008 - accuracy: 0.9211\n",
            "Epoch 37/85\n",
            "279/279 [==============================] - 1s 2ms/step - loss: 0.1995 - accuracy: 0.9247\n",
            "Epoch 38/85\n",
            "279/279 [==============================] - 1s 2ms/step - loss: 0.2098 - accuracy: 0.9140\n",
            "Epoch 39/85\n",
            "279/279 [==============================] - 0s 2ms/step - loss: 0.2072 - accuracy: 0.9068\n",
            "Epoch 40/85\n",
            "279/279 [==============================] - 1s 2ms/step - loss: 0.1832 - accuracy: 0.9176\n",
            "Epoch 41/85\n",
            "279/279 [==============================] - 0s 2ms/step - loss: 0.2031 - accuracy: 0.9211\n",
            "Epoch 42/85\n",
            "279/279 [==============================] - 1s 2ms/step - loss: 0.1872 - accuracy: 0.9283\n",
            "Epoch 43/85\n",
            "279/279 [==============================] - 1s 2ms/step - loss: 0.1769 - accuracy: 0.9283\n",
            "Epoch 44/85\n",
            "279/279 [==============================] - 0s 2ms/step - loss: 0.1791 - accuracy: 0.9355\n",
            "Epoch 45/85\n",
            "279/279 [==============================] - 0s 2ms/step - loss: 0.1675 - accuracy: 0.9247\n",
            "Epoch 46/85\n",
            "279/279 [==============================] - 0s 2ms/step - loss: 0.2150 - accuracy: 0.9104\n",
            "Epoch 47/85\n",
            "279/279 [==============================] - 0s 2ms/step - loss: 0.1644 - accuracy: 0.9355\n",
            "Epoch 48/85\n",
            "279/279 [==============================] - 0s 2ms/step - loss: 0.1592 - accuracy: 0.9355\n",
            "Epoch 49/85\n",
            "279/279 [==============================] - 1s 2ms/step - loss: 0.1595 - accuracy: 0.9355\n",
            "Epoch 50/85\n",
            "279/279 [==============================] - 1s 2ms/step - loss: 0.1526 - accuracy: 0.9319\n",
            "Epoch 51/85\n",
            "279/279 [==============================] - 1s 2ms/step - loss: 0.1632 - accuracy: 0.9391\n",
            "Epoch 52/85\n",
            "279/279 [==============================] - 0s 2ms/step - loss: 0.1609 - accuracy: 0.9283\n",
            "Epoch 53/85\n",
            "279/279 [==============================] - 0s 2ms/step - loss: 0.1607 - accuracy: 0.9391\n",
            "Epoch 54/85\n",
            "279/279 [==============================] - 0s 2ms/step - loss: 0.1400 - accuracy: 0.9462\n",
            "Epoch 55/85\n",
            "279/279 [==============================] - 0s 2ms/step - loss: 0.1598 - accuracy: 0.9355\n",
            "Epoch 56/85\n",
            "279/279 [==============================] - 1s 2ms/step - loss: 0.1544 - accuracy: 0.9283\n",
            "Epoch 57/85\n",
            "279/279 [==============================] - 1s 3ms/step - loss: 0.1306 - accuracy: 0.9498\n",
            "Epoch 58/85\n",
            "279/279 [==============================] - 1s 2ms/step - loss: 0.1300 - accuracy: 0.9391\n",
            "Epoch 59/85\n",
            "279/279 [==============================] - 1s 2ms/step - loss: 0.1412 - accuracy: 0.9498\n",
            "Epoch 60/85\n",
            "279/279 [==============================] - 1s 3ms/step - loss: 0.1323 - accuracy: 0.9427\n",
            "Epoch 61/85\n",
            "279/279 [==============================] - 1s 3ms/step - loss: 0.1227 - accuracy: 0.9570\n",
            "Epoch 62/85\n",
            "279/279 [==============================] - 1s 3ms/step - loss: 0.1274 - accuracy: 0.9642\n",
            "Epoch 63/85\n",
            "279/279 [==============================] - 1s 4ms/step - loss: 0.1236 - accuracy: 0.9570\n",
            "Epoch 64/85\n",
            "279/279 [==============================] - 1s 3ms/step - loss: 0.1128 - accuracy: 0.9642\n",
            "Epoch 65/85\n",
            "279/279 [==============================] - 0s 2ms/step - loss: 0.1031 - accuracy: 0.9606\n",
            "Epoch 66/85\n",
            "279/279 [==============================] - 0s 2ms/step - loss: 0.1092 - accuracy: 0.9606\n",
            "Epoch 67/85\n",
            "279/279 [==============================] - 1s 3ms/step - loss: 0.2210 - accuracy: 0.9176\n",
            "Epoch 68/85\n",
            "279/279 [==============================] - 1s 3ms/step - loss: 0.1018 - accuracy: 0.9642\n",
            "Epoch 69/85\n",
            "279/279 [==============================] - 1s 2ms/step - loss: 0.0938 - accuracy: 0.9642\n",
            "Epoch 70/85\n",
            "279/279 [==============================] - 1s 3ms/step - loss: 0.0917 - accuracy: 0.9749\n",
            "Epoch 71/85\n",
            "279/279 [==============================] - 0s 2ms/step - loss: 0.0850 - accuracy: 0.9642\n",
            "Epoch 72/85\n",
            "279/279 [==============================] - 1s 4ms/step - loss: 0.0863 - accuracy: 0.9749\n",
            "Epoch 73/85\n",
            "279/279 [==============================] - 1s 2ms/step - loss: 0.0884 - accuracy: 0.9713\n",
            "Epoch 74/85\n",
            "279/279 [==============================] - 2s 5ms/step - loss: 0.0909 - accuracy: 0.9570\n",
            "Epoch 75/85\n",
            "279/279 [==============================] - 1s 3ms/step - loss: 0.1246 - accuracy: 0.9642\n",
            "Epoch 76/85\n",
            "279/279 [==============================] - 1s 2ms/step - loss: 0.0836 - accuracy: 0.9821\n",
            "Epoch 77/85\n",
            "279/279 [==============================] - 1s 5ms/step - loss: 0.0792 - accuracy: 0.9677\n",
            "Epoch 78/85\n",
            "279/279 [==============================] - 1s 4ms/step - loss: 0.1061 - accuracy: 0.9606\n",
            "Epoch 79/85\n",
            "279/279 [==============================] - 2s 8ms/step - loss: 0.0808 - accuracy: 0.9749\n",
            "Epoch 80/85\n",
            "279/279 [==============================] - 1s 5ms/step - loss: 0.0681 - accuracy: 0.9821\n",
            "Epoch 81/85\n",
            "279/279 [==============================] - 1s 4ms/step - loss: 0.0636 - accuracy: 0.9749\n",
            "Epoch 82/85\n",
            "279/279 [==============================] - 1s 4ms/step - loss: 0.1225 - accuracy: 0.9534\n",
            "Epoch 83/85\n",
            "279/279 [==============================] - 1s 5ms/step - loss: 0.0721 - accuracy: 0.9749\n",
            "Epoch 84/85\n",
            "279/279 [==============================] - 1s 5ms/step - loss: 0.0635 - accuracy: 0.9892\n",
            "Epoch 85/85\n",
            "279/279 [==============================] - 1s 4ms/step - loss: 0.0536 - accuracy: 0.9857\n"
          ]
        },
        {
          "output_type": "execute_result",
          "data": {
            "text/plain": [
              "<keras.src.callbacks.History at 0x7bd7808a9ea0>"
            ]
          },
          "metadata": {},
          "execution_count": 74
        }
      ]
    },
    {
      "cell_type": "code",
      "source": [
        "from tensorflow.keras.layers import Dropout\n",
        "model=Sequential()\n",
        "model.add(Dropout(0.15,input_shape=(49,)))\n",
        "model.add(Dense(32, activation=\"relu\"))\n",
        "model.add(Dense(32, activation=\"relu\",input_shape=(49,)))\n",
        "#model.add(Dropout(0.3))\n",
        "model.add(Dense(32, activation=\"relu\"))\n",
        "#model.add(Dropout(0.4))\n",
        "\n",
        "#output layer\n",
        "model.add(Dense(1, activation='sigmoid'))\n",
        "\n",
        "model.compile(optimizer='sgd',\n",
        "              loss='binary_crossentropy',\n",
        "              metrics=[\"accuracy\"])\n",
        "model.fit(x_train,y_train,epochs=10,batch_size=1)"
      ],
      "metadata": {
        "colab": {
          "base_uri": "https://localhost:8080/"
        },
        "id": "c8sb__ChBB_g",
        "outputId": "d5042cf7-961d-4ffe-8b13-1c8156ebbc14"
      },
      "execution_count": null,
      "outputs": [
        {
          "output_type": "stream",
          "name": "stdout",
          "text": [
            "Epoch 1/10\n",
            "279/279 [==============================] - 1s 2ms/step - loss: 0.6845 - accuracy: 0.5448\n",
            "Epoch 2/10\n",
            "279/279 [==============================] - 0s 2ms/step - loss: 0.6538 - accuracy: 0.6057\n",
            "Epoch 3/10\n",
            "279/279 [==============================] - 0s 2ms/step - loss: 0.6159 - accuracy: 0.6882\n",
            "Epoch 4/10\n",
            "279/279 [==============================] - 0s 2ms/step - loss: 0.5734 - accuracy: 0.7133\n",
            "Epoch 5/10\n",
            "279/279 [==============================] - 0s 2ms/step - loss: 0.5885 - accuracy: 0.6918\n",
            "Epoch 6/10\n",
            "279/279 [==============================] - 0s 2ms/step - loss: 0.5254 - accuracy: 0.7455\n",
            "Epoch 7/10\n",
            "279/279 [==============================] - 0s 2ms/step - loss: 0.5451 - accuracy: 0.7204\n",
            "Epoch 8/10\n",
            "279/279 [==============================] - 1s 2ms/step - loss: 0.4922 - accuracy: 0.7670\n",
            "Epoch 9/10\n",
            "279/279 [==============================] - 1s 2ms/step - loss: 0.4763 - accuracy: 0.7957\n",
            "Epoch 10/10\n",
            "279/279 [==============================] - 1s 2ms/step - loss: 0.5132 - accuracy: 0.7563\n"
          ]
        },
        {
          "output_type": "execute_result",
          "data": {
            "text/plain": [
              "<keras.src.callbacks.History at 0x7bd75595f400>"
            ]
          },
          "metadata": {},
          "execution_count": 62
        }
      ]
    },
    {
      "cell_type": "code",
      "source": [
        "#sgd with momentum\n",
        "opt=keras.optimizers.SGD(\n",
        "    learning_rate=0.01,\n",
        "    momentum=0.9,\n",
        ")\n",
        "model.compile(optimizer=opt,\n",
        "              loss='binary_crossentropy',\n",
        "              metrics=[\"accuracy\"])\n",
        "model.fit(x_train,y_train,epochs=2,batch_size=32)"
      ],
      "metadata": {
        "colab": {
          "base_uri": "https://localhost:8080/"
        },
        "id": "juX93NVSCUxb",
        "outputId": "f1db3955-b842-4bdd-df2c-7dc2fdeda45c"
      },
      "execution_count": null,
      "outputs": [
        {
          "output_type": "stream",
          "name": "stdout",
          "text": [
            "Epoch 1/2\n",
            "9/9 [==============================] - 1s 4ms/step - loss: 0.0098 - accuracy: 1.0000\n",
            "Epoch 2/2\n",
            "9/9 [==============================] - 0s 2ms/step - loss: 0.0083 - accuracy: 1.0000\n"
          ]
        },
        {
          "output_type": "execute_result",
          "data": {
            "text/plain": [
              "<keras.src.callbacks.History at 0x7bd752dfa740>"
            ]
          },
          "metadata": {},
          "execution_count": 68
        }
      ]
    },
    {
      "cell_type": "code",
      "source": [
        "y_pred=model.predict(x_test)\n",
        "y_pred\n",
        "y_pred=np.where(y_pred>0.5,1,0)\n",
        "y_pred=y_pred.astype(int)\n",
        "y_pred\n"
      ],
      "metadata": {
        "colab": {
          "base_uri": "https://localhost:8080/"
        },
        "id": "9R1cDm0pFJTg",
        "outputId": "1a8e1c20-214a-4e57-a365-ba027ce73292"
      },
      "execution_count": null,
      "outputs": [
        {
          "output_type": "stream",
          "name": "stdout",
          "text": [
            "3/3 [==============================] - 0s 5ms/step\n"
          ]
        },
        {
          "output_type": "execute_result",
          "data": {
            "text/plain": [
              "array([[0],\n",
              "       [0],\n",
              "       [0],\n",
              "       [0],\n",
              "       [1],\n",
              "       [1],\n",
              "       [1],\n",
              "       [0],\n",
              "       [0],\n",
              "       [1],\n",
              "       [1],\n",
              "       [0],\n",
              "       [1],\n",
              "       [0],\n",
              "       [0],\n",
              "       [1],\n",
              "       [0],\n",
              "       [0],\n",
              "       [1],\n",
              "       [1],\n",
              "       [1],\n",
              "       [1],\n",
              "       [0],\n",
              "       [1],\n",
              "       [0],\n",
              "       [1],\n",
              "       [0],\n",
              "       [0],\n",
              "       [0],\n",
              "       [0],\n",
              "       [0],\n",
              "       [1],\n",
              "       [0],\n",
              "       [0],\n",
              "       [0],\n",
              "       [0],\n",
              "       [0],\n",
              "       [0],\n",
              "       [0],\n",
              "       [0],\n",
              "       [1],\n",
              "       [1],\n",
              "       [1],\n",
              "       [1],\n",
              "       [1],\n",
              "       [0],\n",
              "       [0],\n",
              "       [0],\n",
              "       [0],\n",
              "       [0],\n",
              "       [0],\n",
              "       [1],\n",
              "       [1],\n",
              "       [0],\n",
              "       [1],\n",
              "       [1],\n",
              "       [0],\n",
              "       [1],\n",
              "       [0],\n",
              "       [1],\n",
              "       [1],\n",
              "       [0],\n",
              "       [0],\n",
              "       [1],\n",
              "       [0],\n",
              "       [0],\n",
              "       [0],\n",
              "       [0],\n",
              "       [1],\n",
              "       [0]])"
            ]
          },
          "metadata": {},
          "execution_count": 76
        }
      ]
    },
    {
      "cell_type": "code",
      "source": [
        "from sklearn.metrics import confusion_matrix,classification_report,accuracy_score\n",
        "print(confusion_matrix(y_test,y_pred))\n",
        "print(accuracy_score(y_test,y_pred))"
      ],
      "metadata": {
        "colab": {
          "base_uri": "https://localhost:8080/"
        },
        "id": "7nxFG6wPGxEt",
        "outputId": "c11923f5-51f6-473c-f44e-2939d7c269d7"
      },
      "execution_count": null,
      "outputs": [
        {
          "output_type": "stream",
          "name": "stdout",
          "text": [
            "[[35  6]\n",
            " [ 7 22]]\n",
            "0.8142857142857143\n"
          ]
        }
      ]
    },
    {
      "cell_type": "code",
      "source": [
        "y_pred=model.evaluate(x_test,y_test)[1]"
      ],
      "metadata": {
        "colab": {
          "base_uri": "https://localhost:8080/"
        },
        "id": "Ip74aPXtIf7v",
        "outputId": "c7d93fc5-80dd-4609-bd60-828f4898199d"
      },
      "execution_count": null,
      "outputs": [
        {
          "output_type": "stream",
          "name": "stdout",
          "text": [
            "3/3 [==============================] - 1s 7ms/step - loss: 0.5750 - accuracy: 0.8143\n"
          ]
        }
      ]
    },
    {
      "cell_type": "code",
      "source": [],
      "metadata": {
        "id": "vUFGDLoSIz5u"
      },
      "execution_count": null,
      "outputs": []
    }
  ]
}